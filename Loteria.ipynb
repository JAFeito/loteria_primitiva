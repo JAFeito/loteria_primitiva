{
 "cells": [
  {
   "cell_type": "code",
   "execution_count": 3,
   "metadata": {},
   "outputs": [
    {
     "data": {
      "text/html": [
       "<div>\n",
       "<style scoped>\n",
       "    .dataframe tbody tr th:only-of-type {\n",
       "        vertical-align: middle;\n",
       "    }\n",
       "\n",
       "    .dataframe tbody tr th {\n",
       "        vertical-align: top;\n",
       "    }\n",
       "\n",
       "    .dataframe thead th {\n",
       "        text-align: right;\n",
       "    }\n",
       "</style>\n",
       "<table border=\"1\" class=\"dataframe\">\n",
       "  <thead>\n",
       "    <tr style=\"text-align: right;\">\n",
       "      <th></th>\n",
       "      <th>FECHA</th>\n",
       "      <th>N1</th>\n",
       "      <th>N2</th>\n",
       "      <th>N3</th>\n",
       "      <th>N4</th>\n",
       "      <th>N5</th>\n",
       "      <th>N6</th>\n",
       "      <th>COMP.</th>\n",
       "    </tr>\n",
       "  </thead>\n",
       "  <tbody>\n",
       "    <tr>\n",
       "      <th>0</th>\n",
       "      <td>29/12/2012</td>\n",
       "      <td>2.0</td>\n",
       "      <td>3.0</td>\n",
       "      <td>7.0</td>\n",
       "      <td>10.0</td>\n",
       "      <td>21.0</td>\n",
       "      <td>38.0</td>\n",
       "      <td>12.0</td>\n",
       "    </tr>\n",
       "    <tr>\n",
       "      <th>1</th>\n",
       "      <td>27/12/2012</td>\n",
       "      <td>2.0</td>\n",
       "      <td>5.0</td>\n",
       "      <td>31.0</td>\n",
       "      <td>33.0</td>\n",
       "      <td>43.0</td>\n",
       "      <td>49.0</td>\n",
       "      <td>47.0</td>\n",
       "    </tr>\n",
       "    <tr>\n",
       "      <th>2</th>\n",
       "      <td>22/12/2012</td>\n",
       "      <td>2.0</td>\n",
       "      <td>27.0</td>\n",
       "      <td>29.0</td>\n",
       "      <td>34.0</td>\n",
       "      <td>35.0</td>\n",
       "      <td>40.0</td>\n",
       "      <td>48.0</td>\n",
       "    </tr>\n",
       "    <tr>\n",
       "      <th>3</th>\n",
       "      <td>20/12/2012</td>\n",
       "      <td>12.0</td>\n",
       "      <td>21.0</td>\n",
       "      <td>22.0</td>\n",
       "      <td>36.0</td>\n",
       "      <td>47.0</td>\n",
       "      <td>49.0</td>\n",
       "      <td>38.0</td>\n",
       "    </tr>\n",
       "    <tr>\n",
       "      <th>4</th>\n",
       "      <td>15/12/2012</td>\n",
       "      <td>4.0</td>\n",
       "      <td>8.0</td>\n",
       "      <td>34.0</td>\n",
       "      <td>36.0</td>\n",
       "      <td>37.0</td>\n",
       "      <td>44.0</td>\n",
       "      <td>14.0</td>\n",
       "    </tr>\n",
       "  </tbody>\n",
       "</table>\n",
       "</div>"
      ],
      "text/plain": [
       "        FECHA    N1    N2    N3    N4    N5    N6  COMP.\n",
       "0  29/12/2012   2.0   3.0   7.0  10.0  21.0  38.0   12.0\n",
       "1  27/12/2012   2.0   5.0  31.0  33.0  43.0  49.0   47.0\n",
       "2  22/12/2012   2.0  27.0  29.0  34.0  35.0  40.0   48.0\n",
       "3  20/12/2012  12.0  21.0  22.0  36.0  47.0  49.0   38.0\n",
       "4  15/12/2012   4.0   8.0  34.0  36.0  37.0  44.0   14.0"
      ]
     },
     "execution_count": 3,
     "metadata": {},
     "output_type": "execute_result"
    }
   ],
   "source": [
    "#Datos sorteos loteria primitiva\n",
    "import pandas as pd\n",
    "\n",
    "antiguos = pd.read_csv(\"https://docs.google.com/spreadsheets/d/e/2PACX-1vTov1BuA0nkVGTS48arpPFkc9cG7B40Xi3BfY6iqcWTrMwCBg5b50-WwvnvaR6mxvFHbDBtYFKg5IsJ/pub?gid=0&single=true&output=csv\")\n",
    "modernos = pd.read_csv(\"https://docs.google.com/spreadsheets/d/e/2PACX-1vTov1BuA0nkVGTS48arpPFkc9cG7B40Xi3BfY6iqcWTrMwCBg5b50-WwvnvaR6mxvFHbDBtYFKg5IsJ/pub?gid=1&single=true&output=csv\")\n",
    "sorteos = pd.concat([antiguos,modernos])\n",
    "sorteos.rename(columns={\"COMBINACIÓN GANADORA\": \"N1\",\"Unnamed: 2\": \"N2\",\"Unnamed: 3\": \"N3\",\"Unnamed: 4\": \"N4\",\"Unnamed: 5\": \"N5\",\"Unnamed: 6\": \"N6\"},inplace=True)\n",
    "sorteos.drop(columns={\"JOKER\",\"R.\"},inplace=True)\n",
    "#Entendemos que si el primer numero de un sorteo no existe es por que no ha habido sorteo, aun que se podriamos comprobar tambien los demas de ser necesario\n",
    "sorteos = sorteos[sorteos[\"N1\"].notna()]\n",
    "\n",
    "#sorteos.isna().sum()\n"
   ]
  },
  {
   "cell_type": "markdown",
   "metadata": {},
   "source": [
    "CAMBIAMOS LOS TIPOS DE LAS COLUMNAS"
   ]
  },
  {
   "cell_type": "code",
   "execution_count": 15,
   "metadata": {},
   "outputs": [],
   "source": [
    "sorteos[\"FECHA\"] = pd.to_datetime(sorteos[\"FECHA\"],dayfirst=True)\n",
    "sorteos[\"N1\"] = sorteos[\"N1\"].astype(int)\n",
    "sorteos[\"N2\"] = sorteos[\"N2\"].astype(int)\n",
    "sorteos[\"N3\"] = sorteos[\"N3\"].astype(int)\n",
    "sorteos[\"N4\"] = sorteos[\"N4\"].astype(int)\n",
    "sorteos[\"N5\"] = sorteos[\"N5\"].astype(int)\n",
    "sorteos[\"N6\"] = sorteos[\"N6\"].astype(int)\n",
    "sorteos[\"COMP.\"] = sorteos[\"COMP.\"].astype(int)\n",
    "#sorteos.dtypes"
   ]
  },
  {
   "cell_type": "code",
   "execution_count": 16,
   "metadata": {},
   "outputs": [
    {
     "name": "stdout",
     "output_type": "stream",
     "text": [
      "<class 'pandas.core.series.Series'>\n",
      "Estos son los 10 numeros que mas ha salido en los soretos:\n",
      "El numero 3 ha salido un total de [578]\n",
      "El numero 1 ha salido un total de [571]\n",
      "El numero 38 ha salido un total de [569]\n",
      "El numero 11 ha salido un total de [566]\n",
      "El numero 45 ha salido un total de [566]\n",
      "El numero 47 ha salido un total de [564]\n",
      "El numero 40 ha salido un total de [561]\n",
      "El numero 39 ha salido un total de [559]\n",
      "El numero 29 ha salido un total de [559]\n",
      "El numero 32 ha salido un total de [557]\n",
      "El numero 41 ha salido un total de [557]\n"
     ]
    }
   ],
   "source": [
    "valores_repetidos_1 = sorteos['N1'].value_counts()\n",
    "valores_repetidos_2 = sorteos['N2'].value_counts()\n",
    "valores_repetidos_3 = sorteos['N3'].value_counts()\n",
    "valores_repetidos_4 = sorteos['N4'].value_counts()\n",
    "valores_repetidos_5 = sorteos['N5'].value_counts()\n",
    "valores_repetidos_6 = sorteos['N6'].value_counts()\n",
    "valores_repetidos_comp = sorteos['COMP.'].value_counts()\n",
    "print(type(valores_repetidos_1))\n",
    "      \n",
    "apariciones_num = pd.concat([valores_repetidos_1,valores_repetidos_2,valores_repetidos_3,valores_repetidos_4,valores_repetidos_5,valores_repetidos_6,valores_repetidos_comp], axis=1, sort=True).sum(axis=1)\n",
    "apariciones_num = apariciones_num.astype(int)\n",
    "apariciones_num=apariciones_num.sort_values(ascending=False)\n",
    "apariciones_num = pd.DataFrame(apariciones_num)\n",
    "print(\"Estos son los 10 numeros que mas ha salido en los soretos:\")\n",
    "for i in range(0,11):\n",
    "    \n",
    "    print(f\"El numero {apariciones_num.index[i]} ha salido un total de {apariciones_num.values[i]}\")\n",
    "    "
   ]
  },
  {
   "cell_type": "code",
   "execution_count": 5,
   "metadata": {},
   "outputs": [
    {
     "data": {
      "text/plain": [
       "Text(0.5, 1.0, 'Numeros mas extrtaidos')"
      ]
     },
     "execution_count": 5,
     "metadata": {},
     "output_type": "execute_result"
    },
    {
     "data": {
      "image/png": "[encoded data removed]",
      "text/plain": [
       "<Figure size 640x480 with 1 Axes>"
      ]
     },
     "metadata": {},
     "output_type": "display_data"
    }
   ],
   "source": [
    "import matplotlib.pyplot as plt\n",
    "plt.bar(apariciones_num.index,apariciones_num.values)\n",
    "plt.xlabel(\"Numero\")\n",
    "plt.ylabel(\"Extracciones\")\n",
    "plt.title(\"Numeros mas extrtaidos\")"
   ]
  }
 ],
 "metadata": {
  "kernelspec": {
   "display_name": "Python 3",
   "language": "python",
   "name": "python3"
  },
  "language_info": {
   "codemirror_mode": {
    "name": "ipython",
    "version": 3
   },
   "file_extension": ".py",
   "mimetype": "text/x-python",
   "name": "python",
   "nbconvert_exporter": "python",
   "pygments_lexer": "ipython3",
   "version": "3.12.2"
  }
 },
 "nbformat": 4,
 "nbformat_minor": 2
}
