{
 "cells": [
  {
   "cell_type": "code",
   "execution_count": 3,
   "metadata": {},
   "outputs": [
    {
     "name": "stderr",
     "output_type": "stream",
     "text": [
      "C:\\Users\\Feito\\AppData\\Local\\Temp\\ipykernel_23760\\4206358432.py:2: DeprecationWarning: \n",
      "Pyarrow will become a required dependency of pandas in the next major release of pandas (pandas 3.0),\n",
      "(to allow more performant data types, such as the Arrow string type, and better interoperability with other libraries)\n",
      "but was not found to be installed on your system.\n",
      "If this would cause problems for you,\n",
      "please provide us feedback at https://github.com/pandas-dev/pandas/issues/54466\n",
      "        \n",
      "  import pandas as pd\n"
     ]
    },
    {
     "data": {
      "text/plain": [
       "FECHA    0\n",
       "N1       0\n",
       "N2       0\n",
       "N3       0\n",
       "N4       0\n",
       "N5       0\n",
       "N6       0\n",
       "COMP.    0\n",
       "dtype: int64"
      ]
     },
     "execution_count": 3,
     "metadata": {},
     "output_type": "execute_result"
    }
   ],
   "source": [
    "#Datos sorteos loteria primitiva\n",
    "import pandas as pd\n",
    "\n",
    "antiguos = pd.read_csv(\"https://docs.google.com/spreadsheets/d/e/2PACX-1vTov1BuA0nkVGTS48arpPFkc9cG7B40Xi3BfY6iqcWTrMwCBg5b50-WwvnvaR6mxvFHbDBtYFKg5IsJ/pub?gid=0&single=true&output=csv\")\n",
    "modernos = pd.read_csv(\"https://docs.google.com/spreadsheets/d/e/2PACX-1vTov1BuA0nkVGTS48arpPFkc9cG7B40Xi3BfY6iqcWTrMwCBg5b50-WwvnvaR6mxvFHbDBtYFKg5IsJ/pub?gid=1&single=true&output=csv\")\n",
    "sorteos = pd.concat([antiguos,modernos])\n",
    "sorteos.rename(columns={\"COMBINACIÓN GANADORA\": \"N1\",\"Unnamed: 2\": \"N2\",\"Unnamed: 3\": \"N3\",\"Unnamed: 4\": \"N4\",\"Unnamed: 5\": \"N5\",\"Unnamed: 6\": \"N6\"},inplace=True)\n",
    "sorteos.drop(columns={\"JOKER\",\"R.\"},inplace=True)\n",
    "#Entendemos que si el primer numero de un sorteo no existe es por que no ha habido sorteo, aun que se podriamos comprobar tambien los demas de ser necesario\n",
    "continuar = True\n",
    "while continuar:\n",
    "\n",
    "    borrar = sorteos[sorteos.N1.isna()].index\n",
    "    if not borrar.empty:\n",
    "        sorteos.drop(borrar[0],inplace=True)\n",
    "    else:\n",
    "        continuar = False\n",
    "#borrar = sorteos[sorteos.N1.isna()].index\n",
    "#print(type(borrar))\n",
    "#print(borrar.isnull())\n",
    "#sorteos.drop(borrar[0],inplace=True)    \n",
    "#borrar = sorteos[sorteos.N1.isna()].index\n",
    "#borrar = sorteos[sorteos.N1.isna()].index\n",
    "\n",
    "#sorteos.drop(482,inplace=True)\n",
    "#if any(sorteos[sorteos.N1.isna()]:\n",
    "#    borra = sorteos.N1.isna()\n",
    "#    sorteos.drop(borra[0],inplace=True)\n",
    "sorteos.isna().sum()\n",
    "#sorteos.N1.isna()\n",
    "#sorteos.isnull().any()"
   ]
  },
  {
   "cell_type": "markdown",
   "metadata": {},
   "source": [
    "CAMBIAMOS LOS TIPOS DE LAS COLUMNAS"
   ]
  },
  {
   "cell_type": "code",
   "execution_count": 4,
   "metadata": {},
   "outputs": [
    {
     "name": "stderr",
     "output_type": "stream",
     "text": [
      "C:\\Users\\Feito\\AppData\\Local\\Temp\\ipykernel_23760\\2586636058.py:1: UserWarning: Parsing dates in %d/%m/%Y format when dayfirst=False (the default) was specified. Pass `dayfirst=True` or specify a format to silence this warning.\n",
      "  sorteos[\"FECHA\"] = pd.to_datetime(sorteos[\"FECHA\"])\n"
     ]
    }
   ],
   "source": [
    "sorteos[\"FECHA\"] = pd.to_datetime(sorteos[\"FECHA\"])\n",
    "sorteos[\"N1\"] = sorteos[\"N1\"].astype(int)\n",
    "sorteos[\"N2\"] = sorteos[\"N2\"].astype(int)\n",
    "sorteos[\"N3\"] = sorteos[\"N3\"].astype(int)\n",
    "sorteos[\"N4\"] = sorteos[\"N4\"].astype(int)\n",
    "sorteos[\"N5\"] = sorteos[\"N5\"].astype(int)\n",
    "sorteos[\"N6\"] = sorteos[\"N6\"].astype(int)\n",
    "sorteos[\"COMP.\"] = sorteos[\"COMP.\"].astype(int)\n",
    "#sorteos.dtypes"
   ]
  },
  {
   "cell_type": "code",
   "execution_count": 49,
   "metadata": {},
   "outputs": [
    {
     "name": "stdout",
     "output_type": "stream",
     "text": [
      "<class 'pandas.core.series.Series'>\n",
      "45 577\n",
      "38 536\n"
     ]
    }
   ],
   "source": [
    "valores_repetidos_1 = sorteos['N1'].value_counts()\n",
    "valores_repetidos_2 = sorteos['N2'].value_counts()\n",
    "valores_repetidos_3 = sorteos['N3'].value_counts()\n",
    "valores_repetidos_4 = sorteos['N4'].value_counts()\n",
    "valores_repetidos_5 = sorteos['N5'].value_counts()\n",
    "valores_repetidos_6 = sorteos['N6'].value_counts()\n",
    "valores_repetidos_comp = sorteos['COMP.'].value_counts()\n",
    "print(type(valores_repetidos_1))\n",
    "      \n",
    "apariciones_num = pd.concat([valores_repetidos_1,valores_repetidos_2,valores_repetidos_3,valores_repetidos_4,valores_repetidos_5,valores_repetidos_6,valores_repetidos_comp], axis=1, sort=True).sum(axis=1)\n",
    "apariciones_num = apariciones_num.astype(int)\n",
    "apariciones_num=apariciones_num.sort_values(ascending=False)\n",
    "#print(apariciones_num)\n",
    "print(apariciones_num.index[3], apariciones_num[3])\n",
    "print (apariciones_num.index[2], apariciones_num[2])"
   ]
  },
  {
   "cell_type": "code",
   "execution_count": 28,
   "metadata": {},
   "outputs": [
    {
     "data": {
      "text/plain": [
       "Text(0.5, 1.0, 'Numeros mas extrtaidos')"
      ]
     },
     "execution_count": 28,
     "metadata": {},
     "output_type": "execute_result"
    },
    {
     "data": {
      "image/png": "[encoded data removed]",
      "text/plain": [
       "<Figure size 640x480 with 1 Axes>"
      ]
     },
     "metadata": {},
     "output_type": "display_data"
    }
   ],
   "source": [
    "import matplotlib.pyplot as plt\n",
    "plt.bar(apariciones_num.index,apariciones_num.values)\n",
    "plt.xlabel(\"Numero\")\n",
    "plt.ylabel(\"Extracciones\")\n",
    "plt.title(\"Numeros mas extrtaidos\")"
   ]
  }
 ],
 "metadata": {
  "kernelspec": {
   "display_name": "Python 3",
   "language": "python",
   "name": "python3"
  },
  "language_info": {
   "codemirror_mode": {
    "name": "ipython",
    "version": 3
   },
   "file_extension": ".py",
   "mimetype": "text/x-python",
   "name": "python",
   "nbconvert_exporter": "python",
   "pygments_lexer": "ipython3",
   "version": "3.12.2"
  }
 },
 "nbformat": 4,
 "nbformat_minor": 2
}
