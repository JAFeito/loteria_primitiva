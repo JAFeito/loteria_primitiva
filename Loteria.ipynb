{
 "cells": [
  {
   "cell_type": "code",
   "execution_count": 18,
   "metadata": {},
   "outputs": [],
   "source": [
    "#Datos sorteos loteria primitiva\n",
    "import pandas as pd\n",
    "antiguos = pd.read_csv(\"https://docs.google.com/spreadsheets/d/e/2PACX-1vTov1BuA0nkVGTS48arpPFkc9cG7B40Xi3BfY6iqcWTrMwCBg5b50-WwvnvaR6mxvFHbDBtYFKg5IsJ/pub?gid=0&single=true&output=csv\")\n",
    "modernos = pd.read_csv(\"https://docs.google.com/spreadsheets/d/e/2PACX-1vTov1BuA0nkVGTS48arpPFkc9cG7B40Xi3BfY6iqcWTrMwCBg5b50-WwvnvaR6mxvFHbDBtYFKg5IsJ/pub?gid=1&single=true&output=csv\")\n",
    "sorteos = pd.concat([antiguos,modernos])\n",
    "sorteos.rename(columns={\"COMBINACIÓN GANADORA\": \"N1\",\"Unnamed: 2\": \"N2\",\"Unnamed: 3\": \"N3\",\"Unnamed: 4\": \"N4\",\"Unnamed: 5\": \"N5\",\"Unnamed: 6\": \"N6\"},inplace=True)\n",
    "sorteos.drop(columns={\"JOKER\",\"R.\"},inplace=True)\n",
    "sorteos.drop(481,inplace=True)\n",
    "#sorteos.isna().sum()\n",
    "#sorteos[sorteos.N1.isna()]\n",
    "\n"
   ]
  },
  {
   "cell_type": "code",
   "execution_count": 23,
   "metadata": {},
   "outputs": [
    {
     "data": {
      "text/plain": [
       "FECHA    datetime64[ns]\n",
       "N1                int32\n",
       "N2                int32\n",
       "N3                int32\n",
       "N4                int32\n",
       "N5                int32\n",
       "N6                int32\n",
       "COMP.             int32\n",
       "dtype: object"
      ]
     },
     "execution_count": 23,
     "metadata": {},
     "output_type": "execute_result"
    }
   ],
   "source": [
    "sorteos[\"FECHA\"] = pd.to_datetime(sorteos[\"FECHA\"])\n",
    "sorteos[\"N1\"] = sorteos[\"N1\"].astype(int)\n",
    "sorteos[\"N2\"] = sorteos[\"N2\"].astype(int)\n",
    "sorteos[\"N3\"] = sorteos[\"N3\"].astype(int)\n",
    "sorteos[\"N4\"] = sorteos[\"N4\"].astype(int)\n",
    "sorteos[\"N5\"] = sorteos[\"N5\"].astype(int)\n",
    "sorteos[\"N6\"] = sorteos[\"N6\"].astype(int)\n",
    "sorteos[\"COMP.\"] = sorteos[\"COMP.\"].astype(int)\n",
    "sorteos.dtypes"
   ]
  }
 ],
 "metadata": {
  "kernelspec": {
   "display_name": "Python 3",
   "language": "python",
   "name": "python3"
  },
  "language_info": {
   "codemirror_mode": {
    "name": "ipython",
    "version": 3
   },
   "file_extension": ".py",
   "mimetype": "text/x-python",
   "name": "python",
   "nbconvert_exporter": "python",
   "pygments_lexer": "ipython3",
   "version": "3.12.2"
  }
 },
 "nbformat": 4,
 "nbformat_minor": 2
}
